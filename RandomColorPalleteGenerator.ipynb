{
 "cells": [
  {
   "cell_type": "code",
   "execution_count": 28,
   "id": "a5494f84-77ad-4b05-957b-fc593cecdd04",
   "metadata": {
    "tags": []
   },
   "outputs": [],
   "source": [
    "import random\n",
    "import colorsys"
   ]
  },
  {
   "cell_type": "code",
   "execution_count": 139,
   "id": "b03423da-8b6d-4405-9334-acd1721b9901",
   "metadata": {
    "tags": []
   },
   "outputs": [],
   "source": [
    "class ColorGen:\n",
    "    def __init__(self):\n",
    "        self.colors = []\n",
    "    def generateColors(self,num,lightness,saturation):\n",
    "        h = random.random()\n",
    "        golden_ratio_conjugate = 0.618033988749895\n",
    "        for i in range(num):\n",
    "            h += golden_ratio_conjugate \n",
    "            h %= 1\n",
    "            rgb = colorsys.hls_to_rgb(h, lightness, saturation)\n",
    "            self.colors.append([int(i * 255.0) for i in reversed(rgb)])        "
   ]
  },
  {
   "cell_type": "code",
   "execution_count": 140,
   "id": "fc81d530-72e8-43e7-8ff4-401f849a87a7",
   "metadata": {},
   "outputs": [],
   "source": [
    "color = ColorGen()\n",
    "color.generateColors(30,0.55,0.6)"
   ]
  },
  {
   "cell_type": "code",
   "execution_count": 141,
   "id": "8d321b6d-ac74-413d-b8b8-dd76381eb703",
   "metadata": {
    "tags": []
   },
   "outputs": [],
   "source": [
    "final= color.colors"
   ]
  },
  {
   "cell_type": "code",
   "execution_count": 142,
   "id": "a4258946-1994-4071-890d-f1000b554ef9",
   "metadata": {
    "tags": []
   },
   "outputs": [],
   "source": [
    "import matplotlib.pyplot as plt"
   ]
  },
  {
   "cell_type": "code",
   "execution_count": 143,
   "id": "2d12e877-26d4-4e35-9590-cf9ab93a0adf",
   "metadata": {
    "tags": []
   },
   "outputs": [
    {
     "data": {
      "text/html": [
       "<br><br><span style='background-color:rgb(77,71,209); padding:20px; border-radius:3px;'>Color</span><span style='background-color:rgb(209,117,71); padding:20px; border-radius:3px;'>Color</span><span style='background-color:rgb(71,209,157); padding:20px; border-radius:3px;'>Color</span><br><br><span style='background-color:rgb(197,71,209); padding:20px; border-radius:3px;'>Color</span><span style='background-color:rgb(180,209,71); padding:20px; border-radius:3px;'>Color</span><span style='background-color:rgb(71,140,209); padding:20px; border-radius:3px;'>Color</span><br><br><span style='background-color:rgb(209,71,99); padding:20px; border-radius:3px;'>Color</span><span style='background-color:rgb(71,209,83); padding:20px; border-radius:3px;'>Color</span><span style='background-color:rgb(123,71,209); padding:20px; border-radius:3px;'>Color</span><br><br><span style='background-color:rgb(209,163,71); padding:20px; border-radius:3px;'>Color</span><span style='background-color:rgb(71,209,203); padding:20px; border-radius:3px;'>Color</span><span style='background-color:rgb(209,71,174); padding:20px; border-radius:3px;'>Color</span><br><br><span style='background-color:rgb(134,209,71); padding:20px; border-radius:3px;'>Color</span><span style='background-color:rgb(71,94,209); padding:20px; border-radius:3px;'>Color</span><span style='background-color:rgb(209,88,71); padding:20px; border-radius:3px;'>Color</span><br><br><span style='background-color:rgb(71,209,129); padding:20px; border-radius:3px;'>Color</span><span style='background-color:rgb(169,71,209); padding:20px; border-radius:3px;'>Color</span><span style='background-color:rgb(208,209,71); padding:20px; border-radius:3px;'>Color</span><br><br><span style='background-color:rgb(71,168,209); padding:20px; border-radius:3px;'>Color</span><span style='background-color:rgb(209,71,128); padding:20px; border-radius:3px;'>Color</span><span style='background-color:rgb(88,209,71); padding:20px; border-radius:3px;'>Color</span><br><br><span style='background-color:rgb(94,71,209); padding:20px; border-radius:3px;'>Color</span><span style='background-color:rgb(209,135,71); padding:20px; border-radius:3px;'>Color</span><span style='background-color:rgb(71,209,175); padding:20px; border-radius:3px;'>Color</span><br><br><span style='background-color:rgb(209,71,202); padding:20px; border-radius:3px;'>Color</span><span style='background-color:rgb(162,209,71); padding:20px; border-radius:3px;'>Color</span><span style='background-color:rgb(71,122,209); padding:20px; border-radius:3px;'>Color</span><br><br><span style='background-color:rgb(209,71,82); padding:20px; border-radius:3px;'>Color</span><span style='background-color:rgb(71,209,100); padding:20px; border-radius:3px;'>Color</span><span style='background-color:rgb(140,71,209); padding:20px; border-radius:3px;'>Color</span>"
      ],
      "text/plain": [
       "<IPython.core.display.HTML object>"
      ]
     },
     "metadata": {},
     "output_type": "display_data"
    }
   ],
   "source": [
    "color_swatch_html=''\n",
    "for i,c in enumerate(final):\n",
    "    if i % 3 == 0:\n",
    "        color_swatch_html += \"<br><br>\"\n",
    "    color_swatch_html += f\"<span style='background-color:rgb({c[0]},{c[1]},{c[2]}); padding:20px; border-radius:3px;'>Color</span>\"\n",
    "\n",
    "display(HTML(color_swatch_html))"
   ]
  }
 ],
 "metadata": {
  "kernelspec": {
   "display_name": "Python [conda env:py39] *",
   "language": "python",
   "name": "conda-env-py39-py"
  },
  "language_info": {
   "codemirror_mode": {
    "name": "ipython",
    "version": 3
   },
   "file_extension": ".py",
   "mimetype": "text/x-python",
   "name": "python",
   "nbconvert_exporter": "python",
   "pygments_lexer": "ipython3",
   "version": "3.9.18"
  }
 },
 "nbformat": 4,
 "nbformat_minor": 5
}
